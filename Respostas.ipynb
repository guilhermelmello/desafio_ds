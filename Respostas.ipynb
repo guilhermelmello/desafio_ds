{
 "cells": [
  {
   "cell_type": "markdown",
   "metadata": {},
   "source": [
    "# Desafio - Data Science"
   ]
  },
  {
   "cell_type": "code",
   "execution_count": 1,
   "metadata": {},
   "outputs": [],
   "source": [
    "import os\n",
    "import numpy as np\n",
    "import pandas as pd\n",
    "import matplotlib.pyplot as plt\n",
    "import seaborn as sns\n",
    "from sklearn.linear_model import LogisticRegression"
   ]
  },
  {
   "cell_type": "markdown",
   "metadata": {},
   "source": [
    "# Leitura dos Dados"
   ]
  },
  {
   "cell_type": "code",
   "execution_count": 2,
   "metadata": {},
   "outputs": [
    {
     "name": "stdout",
     "output_type": "stream",
     "text": [
      "(45211, 17)\n"
     ]
    },
    {
     "data": {
      "text/html": [
       "<div>\n",
       "<style scoped>\n",
       "    .dataframe tbody tr th:only-of-type {\n",
       "        vertical-align: middle;\n",
       "    }\n",
       "\n",
       "    .dataframe tbody tr th {\n",
       "        vertical-align: top;\n",
       "    }\n",
       "\n",
       "    .dataframe thead th {\n",
       "        text-align: right;\n",
       "    }\n",
       "</style>\n",
       "<table border=\"1\" class=\"dataframe\">\n",
       "  <thead>\n",
       "    <tr style=\"text-align: right;\">\n",
       "      <th></th>\n",
       "      <th>age</th>\n",
       "      <th>job</th>\n",
       "      <th>marital</th>\n",
       "      <th>education</th>\n",
       "      <th>default</th>\n",
       "      <th>balance</th>\n",
       "      <th>housing</th>\n",
       "      <th>loan</th>\n",
       "      <th>contact</th>\n",
       "      <th>day</th>\n",
       "      <th>month</th>\n",
       "      <th>duration</th>\n",
       "      <th>campaign</th>\n",
       "      <th>pdays</th>\n",
       "      <th>previous</th>\n",
       "      <th>poutcome</th>\n",
       "      <th>y</th>\n",
       "    </tr>\n",
       "  </thead>\n",
       "  <tbody>\n",
       "    <tr>\n",
       "      <th>0</th>\n",
       "      <td>58</td>\n",
       "      <td>management</td>\n",
       "      <td>married</td>\n",
       "      <td>tertiary</td>\n",
       "      <td>no</td>\n",
       "      <td>2143</td>\n",
       "      <td>yes</td>\n",
       "      <td>no</td>\n",
       "      <td>unknown</td>\n",
       "      <td>5</td>\n",
       "      <td>may</td>\n",
       "      <td>261</td>\n",
       "      <td>1</td>\n",
       "      <td>-1</td>\n",
       "      <td>0</td>\n",
       "      <td>unknown</td>\n",
       "      <td>no</td>\n",
       "    </tr>\n",
       "    <tr>\n",
       "      <th>1</th>\n",
       "      <td>44</td>\n",
       "      <td>technician</td>\n",
       "      <td>single</td>\n",
       "      <td>secondary</td>\n",
       "      <td>no</td>\n",
       "      <td>29</td>\n",
       "      <td>yes</td>\n",
       "      <td>no</td>\n",
       "      <td>unknown</td>\n",
       "      <td>5</td>\n",
       "      <td>may</td>\n",
       "      <td>151</td>\n",
       "      <td>1</td>\n",
       "      <td>-1</td>\n",
       "      <td>0</td>\n",
       "      <td>unknown</td>\n",
       "      <td>no</td>\n",
       "    </tr>\n",
       "    <tr>\n",
       "      <th>2</th>\n",
       "      <td>33</td>\n",
       "      <td>entrepreneur</td>\n",
       "      <td>married</td>\n",
       "      <td>secondary</td>\n",
       "      <td>no</td>\n",
       "      <td>2</td>\n",
       "      <td>yes</td>\n",
       "      <td>yes</td>\n",
       "      <td>unknown</td>\n",
       "      <td>5</td>\n",
       "      <td>may</td>\n",
       "      <td>76</td>\n",
       "      <td>1</td>\n",
       "      <td>-1</td>\n",
       "      <td>0</td>\n",
       "      <td>unknown</td>\n",
       "      <td>no</td>\n",
       "    </tr>\n",
       "    <tr>\n",
       "      <th>3</th>\n",
       "      <td>47</td>\n",
       "      <td>blue-collar</td>\n",
       "      <td>married</td>\n",
       "      <td>unknown</td>\n",
       "      <td>no</td>\n",
       "      <td>1506</td>\n",
       "      <td>yes</td>\n",
       "      <td>no</td>\n",
       "      <td>unknown</td>\n",
       "      <td>5</td>\n",
       "      <td>may</td>\n",
       "      <td>92</td>\n",
       "      <td>1</td>\n",
       "      <td>-1</td>\n",
       "      <td>0</td>\n",
       "      <td>unknown</td>\n",
       "      <td>no</td>\n",
       "    </tr>\n",
       "    <tr>\n",
       "      <th>4</th>\n",
       "      <td>33</td>\n",
       "      <td>unknown</td>\n",
       "      <td>single</td>\n",
       "      <td>unknown</td>\n",
       "      <td>no</td>\n",
       "      <td>1</td>\n",
       "      <td>no</td>\n",
       "      <td>no</td>\n",
       "      <td>unknown</td>\n",
       "      <td>5</td>\n",
       "      <td>may</td>\n",
       "      <td>198</td>\n",
       "      <td>1</td>\n",
       "      <td>-1</td>\n",
       "      <td>0</td>\n",
       "      <td>unknown</td>\n",
       "      <td>no</td>\n",
       "    </tr>\n",
       "  </tbody>\n",
       "</table>\n",
       "</div>"
      ],
      "text/plain": [
       "   age           job  marital  education default  balance housing loan  \\\n",
       "0   58    management  married   tertiary      no     2143     yes   no   \n",
       "1   44    technician   single  secondary      no       29     yes   no   \n",
       "2   33  entrepreneur  married  secondary      no        2     yes  yes   \n",
       "3   47   blue-collar  married    unknown      no     1506     yes   no   \n",
       "4   33       unknown   single    unknown      no        1      no   no   \n",
       "\n",
       "   contact  day month  duration  campaign  pdays  previous poutcome   y  \n",
       "0  unknown    5   may       261         1     -1         0  unknown  no  \n",
       "1  unknown    5   may       151         1     -1         0  unknown  no  \n",
       "2  unknown    5   may        76         1     -1         0  unknown  no  \n",
       "3  unknown    5   may        92         1     -1         0  unknown  no  \n",
       "4  unknown    5   may       198         1     -1         0  unknown  no  "
      ]
     },
     "execution_count": 2,
     "metadata": {},
     "output_type": "execute_result"
    }
   ],
   "source": [
    "path = os.path.join('data', 'bank-full.csv')\n",
    "data = pd.read_csv(path, sep=';')\n",
    "print(data.shape)\n",
    "data.head()"
   ]
  },
  {
   "cell_type": "markdown",
   "metadata": {},
   "source": [
    "# Transfomação dos Dados"
   ]
  },
  {
   "cell_type": "code",
   "execution_count": 3,
   "metadata": {},
   "outputs": [
    {
     "name": "stdout",
     "output_type": "stream",
     "text": [
      "yes    25130\n",
      "no     20081\n",
      "Name: housing, dtype: int64\n",
      "1    25130\n",
      "0    20081\n",
      "Name: housing, dtype: int64\n"
     ]
    }
   ],
   "source": [
    "# transformando em 0s e 1s\n",
    "print(data.housing.value_counts())\n",
    "fl_housing = data['housing'] == 'yes'\n",
    "data.loc[~fl_housing, 'housing'] = 0\n",
    "data.loc[fl_housing, 'housing'] = 1\n",
    "print(data.housing.value_counts())"
   ]
  },
  {
   "cell_type": "code",
   "execution_count": 4,
   "metadata": {},
   "outputs": [
    {
     "name": "stdout",
     "output_type": "stream",
     "text": [
      "no     37967\n",
      "yes     7244\n",
      "Name: loan, dtype: int64\n",
      "0    37967\n",
      "1     7244\n",
      "Name: loan, dtype: int64\n"
     ]
    }
   ],
   "source": [
    "# transformanto em 0s e 1s\n",
    "print(data.loan.value_counts())\n",
    "fl_loan = data['loan'] == 'yes'\n",
    "data.loc[~fl_loan, 'loan'] = 0\n",
    "data.loc[fl_loan, 'loan'] = 1\n",
    "print(data.loan.value_counts())"
   ]
  },
  {
   "cell_type": "code",
   "execution_count": 5,
   "metadata": {},
   "outputs": [
    {
     "name": "stdout",
     "output_type": "stream",
     "text": [
      "1    28007\n",
      "0    17204\n",
      "Name: emprestimo, dtype: int64\n"
     ]
    }
   ],
   "source": [
    "# Criando uma flag de empréstimo, caso a pessoa possua algum tipo de empréstimo.\n",
    "fl_empr = (data['loan'] == 1) | (data['housing'] == 1)\n",
    "data['emprestimo'] = fl_empr.astype(int)\n",
    "print(data.emprestimo.value_counts())"
   ]
  },
  {
   "cell_type": "code",
   "execution_count": 6,
   "metadata": {},
   "outputs": [
    {
     "name": "stdout",
     "output_type": "stream",
     "text": [
      "no     39922\n",
      "yes     5289\n",
      "Name: y, dtype: int64\n",
      "0    39922\n",
      "1     5289\n",
      "Name: y, dtype: int64\n"
     ]
    }
   ],
   "source": [
    "# transformando em 0s e 1s\n",
    "print(data['y'].value_counts())\n",
    "fl_success = data['y'] == 'yes'\n",
    "data.loc[~fl_success, 'y'] = 0\n",
    "data.loc[fl_success, 'y'] = 1\n",
    "print(data['y'].value_counts())"
   ]
  },
  {
   "cell_type": "markdown",
   "metadata": {},
   "source": [
    "# Questão 1\n",
    "Qual profissão tem mais tendência a fazer um empréstimo? De qual tipo?"
   ]
  },
  {
   "cell_type": "markdown",
   "metadata": {},
   "source": [
    "### Desenvolvimento\n",
    "\n",
    "Primeiramente, são geradas as informações necessárias para responder a questão. Os dados gerados correspondem à valores sumarizados por profissão (_p_):\n",
    "- **freq_abs:** número absoluto de pessoas com a profissão _p_;\n",
    "- **freq_relativa:** porcentagem de pessoas com a profissão _p_;\n",
    "- **housing_abs:** número de pessoas com a profissão _p_ que possuem empréstimo imobiliário;\n",
    "- **housing_rel:** porcentagem de pessoas com a profissão _p_ que possuem empréstimo imobiliário;\n",
    "- **loan_abs:** número de pessoas com a profissão _p_ que possuem empréstimo pessoal;\n",
    "- **loan_rel:** porcentagem de pessoas com a profissão _p_ que possuem empréstimo pessoal;\n",
    "- **empr_abs:** número de pessoas com a profissão _p_ e que possuem algum tipo de empréstimo;\n",
    "- **empr_rel:** porcentagem de pessoas com a profissão _p_ e que possuem algum tipo de empréstimo;"
   ]
  },
  {
   "cell_type": "code",
   "execution_count": 7,
   "metadata": {},
   "outputs": [
    {
     "data": {
      "text/html": [
       "<div>\n",
       "<style scoped>\n",
       "    .dataframe tbody tr th:only-of-type {\n",
       "        vertical-align: middle;\n",
       "    }\n",
       "\n",
       "    .dataframe tbody tr th {\n",
       "        vertical-align: top;\n",
       "    }\n",
       "\n",
       "    .dataframe thead th {\n",
       "        text-align: right;\n",
       "    }\n",
       "</style>\n",
       "<table border=\"1\" class=\"dataframe\">\n",
       "  <thead>\n",
       "    <tr style=\"text-align: right;\">\n",
       "      <th></th>\n",
       "      <th>freq_abs</th>\n",
       "      <th>freq_rel</th>\n",
       "      <th>housing_abs</th>\n",
       "      <th>housing_rel</th>\n",
       "      <th>loan_abs</th>\n",
       "      <th>loan_rel</th>\n",
       "      <th>empr_abs</th>\n",
       "      <th>empr_rel</th>\n",
       "    </tr>\n",
       "  </thead>\n",
       "  <tbody>\n",
       "    <tr>\n",
       "      <th>blue-collar</th>\n",
       "      <td>9732</td>\n",
       "      <td>0.215257</td>\n",
       "      <td>7048</td>\n",
       "      <td>0.724209</td>\n",
       "      <td>1684</td>\n",
       "      <td>0.173037</td>\n",
       "      <td>7599</td>\n",
       "      <td>0.780826</td>\n",
       "    </tr>\n",
       "    <tr>\n",
       "      <th>management</th>\n",
       "      <td>9458</td>\n",
       "      <td>0.209197</td>\n",
       "      <td>4678</td>\n",
       "      <td>0.494608</td>\n",
       "      <td>1253</td>\n",
       "      <td>0.132480</td>\n",
       "      <td>5225</td>\n",
       "      <td>0.552442</td>\n",
       "    </tr>\n",
       "    <tr>\n",
       "      <th>technician</th>\n",
       "      <td>7597</td>\n",
       "      <td>0.168034</td>\n",
       "      <td>4115</td>\n",
       "      <td>0.541661</td>\n",
       "      <td>1309</td>\n",
       "      <td>0.172305</td>\n",
       "      <td>4608</td>\n",
       "      <td>0.606555</td>\n",
       "    </tr>\n",
       "    <tr>\n",
       "      <th>admin.</th>\n",
       "      <td>5171</td>\n",
       "      <td>0.114375</td>\n",
       "      <td>3182</td>\n",
       "      <td>0.615355</td>\n",
       "      <td>991</td>\n",
       "      <td>0.191646</td>\n",
       "      <td>3569</td>\n",
       "      <td>0.690195</td>\n",
       "    </tr>\n",
       "    <tr>\n",
       "      <th>services</th>\n",
       "      <td>4154</td>\n",
       "      <td>0.091880</td>\n",
       "      <td>2766</td>\n",
       "      <td>0.665864</td>\n",
       "      <td>836</td>\n",
       "      <td>0.201252</td>\n",
       "      <td>3063</td>\n",
       "      <td>0.737362</td>\n",
       "    </tr>\n",
       "    <tr>\n",
       "      <th>retired</th>\n",
       "      <td>2264</td>\n",
       "      <td>0.050076</td>\n",
       "      <td>491</td>\n",
       "      <td>0.216873</td>\n",
       "      <td>309</td>\n",
       "      <td>0.136484</td>\n",
       "      <td>699</td>\n",
       "      <td>0.308746</td>\n",
       "    </tr>\n",
       "    <tr>\n",
       "      <th>self-employed</th>\n",
       "      <td>1579</td>\n",
       "      <td>0.034925</td>\n",
       "      <td>765</td>\n",
       "      <td>0.484484</td>\n",
       "      <td>229</td>\n",
       "      <td>0.145028</td>\n",
       "      <td>864</td>\n",
       "      <td>0.547182</td>\n",
       "    </tr>\n",
       "    <tr>\n",
       "      <th>entrepreneur</th>\n",
       "      <td>1487</td>\n",
       "      <td>0.032890</td>\n",
       "      <td>869</td>\n",
       "      <td>0.584398</td>\n",
       "      <td>356</td>\n",
       "      <td>0.239408</td>\n",
       "      <td>1016</td>\n",
       "      <td>0.683255</td>\n",
       "    </tr>\n",
       "    <tr>\n",
       "      <th>unemployed</th>\n",
       "      <td>1303</td>\n",
       "      <td>0.028820</td>\n",
       "      <td>543</td>\n",
       "      <td>0.416731</td>\n",
       "      <td>109</td>\n",
       "      <td>0.083653</td>\n",
       "      <td>589</td>\n",
       "      <td>0.452034</td>\n",
       "    </tr>\n",
       "    <tr>\n",
       "      <th>housemaid</th>\n",
       "      <td>1240</td>\n",
       "      <td>0.027427</td>\n",
       "      <td>398</td>\n",
       "      <td>0.320968</td>\n",
       "      <td>152</td>\n",
       "      <td>0.122581</td>\n",
       "      <td>490</td>\n",
       "      <td>0.395161</td>\n",
       "    </tr>\n",
       "    <tr>\n",
       "      <th>student</th>\n",
       "      <td>938</td>\n",
       "      <td>0.020747</td>\n",
       "      <td>249</td>\n",
       "      <td>0.265458</td>\n",
       "      <td>12</td>\n",
       "      <td>0.012793</td>\n",
       "      <td>257</td>\n",
       "      <td>0.273987</td>\n",
       "    </tr>\n",
       "    <tr>\n",
       "      <th>unknown</th>\n",
       "      <td>288</td>\n",
       "      <td>0.006370</td>\n",
       "      <td>26</td>\n",
       "      <td>0.090278</td>\n",
       "      <td>4</td>\n",
       "      <td>0.013889</td>\n",
       "      <td>28</td>\n",
       "      <td>0.097222</td>\n",
       "    </tr>\n",
       "  </tbody>\n",
       "</table>\n",
       "</div>"
      ],
      "text/plain": [
       "               freq_abs  freq_rel  housing_abs  housing_rel  loan_abs  \\\n",
       "blue-collar        9732  0.215257         7048     0.724209      1684   \n",
       "management         9458  0.209197         4678     0.494608      1253   \n",
       "technician         7597  0.168034         4115     0.541661      1309   \n",
       "admin.             5171  0.114375         3182     0.615355       991   \n",
       "services           4154  0.091880         2766     0.665864       836   \n",
       "retired            2264  0.050076          491     0.216873       309   \n",
       "self-employed      1579  0.034925          765     0.484484       229   \n",
       "entrepreneur       1487  0.032890          869     0.584398       356   \n",
       "unemployed         1303  0.028820          543     0.416731       109   \n",
       "housemaid          1240  0.027427          398     0.320968       152   \n",
       "student             938  0.020747          249     0.265458        12   \n",
       "unknown             288  0.006370           26     0.090278         4   \n",
       "\n",
       "               loan_rel  empr_abs  empr_rel  \n",
       "blue-collar    0.173037      7599  0.780826  \n",
       "management     0.132480      5225  0.552442  \n",
       "technician     0.172305      4608  0.606555  \n",
       "admin.         0.191646      3569  0.690195  \n",
       "services       0.201252      3063  0.737362  \n",
       "retired        0.136484       699  0.308746  \n",
       "self-employed  0.145028       864  0.547182  \n",
       "entrepreneur   0.239408      1016  0.683255  \n",
       "unemployed     0.083653       589  0.452034  \n",
       "housemaid      0.122581       490  0.395161  \n",
       "student        0.012793       257  0.273987  \n",
       "unknown        0.013889        28  0.097222  "
      ]
     },
     "execution_count": 7,
     "metadata": {},
     "output_type": "execute_result"
    }
   ],
   "source": [
    "agg = data.groupby('job')\n",
    "index = list(agg.groups.keys())\n",
    "\n",
    "jobs_df = pd.DataFrame({\n",
    "    'freq_abs': agg['job'].count()[index],\n",
    "    'freq_rel': agg['job'].count()[index] / len(data),\n",
    "    'housing_abs': agg['housing'].sum()[index],\n",
    "    'housing_rel': agg['housing'].mean()[index],\n",
    "    'loan_abs': agg['loan'].sum()[index],\n",
    "    'loan_rel': agg['loan'].mean()[index],\n",
    "    'empr_abs': agg['emprestimo'].sum()[index],\n",
    "    'empr_rel': agg['emprestimo'].mean()[index]},\n",
    "    index = index\n",
    ").sort_values('freq_abs',ascending=False)\n",
    "\n",
    "jobs_df"
   ]
  },
  {
   "cell_type": "markdown",
   "metadata": {},
   "source": [
    "### Resposta 1\n",
    "De forma resumida:\n",
    "\n",
    "> **_blue-collar_** é profissão que tem maior tendência ao empréstimos. Principalmente, empréstimos imobibliários.\n",
    "\n",
    "\n",
    "A seguir, uma resposta mais elaborada:"
   ]
  },
  {
   "cell_type": "markdown",
   "metadata": {},
   "source": [
    "Para responder qual a profissão tem mais tendência a fazer um epréstimo, podemos ver qual a profissão possui o maior número de empréstimos. Neste case, estamos considerando qualquer tipo de empréstimo (imobiliário ou pessoal). Desta forma obtemos a listagem a seguir, com os respectivos valores absolutos."
   ]
  },
  {
   "cell_type": "code",
   "execution_count": 8,
   "metadata": {},
   "outputs": [
    {
     "data": {
      "text/plain": [
       "blue-collar      7599\n",
       "management       5225\n",
       "technician       4608\n",
       "admin.           3569\n",
       "services         3063\n",
       "entrepreneur     1016\n",
       "self-employed     864\n",
       "retired           699\n",
       "unemployed        589\n",
       "housemaid         490\n",
       "student           257\n",
       "unknown            28\n",
       "Name: empr_abs, dtype: int64"
      ]
     },
     "execution_count": 8,
     "metadata": {},
     "output_type": "execute_result"
    }
   ],
   "source": [
    "jobs_df['empr_abs'].sort_values(ascending=False)"
   ]
  },
  {
   "cell_type": "markdown",
   "metadata": {},
   "source": [
    "Porém, o caso acima é influenciado pelo volume de pessoas em cada profissão. Para removermos esse viéz, podemos ver a frequência relativa, dentro de cada profissão."
   ]
  },
  {
   "cell_type": "code",
   "execution_count": 9,
   "metadata": {},
   "outputs": [
    {
     "data": {
      "text/plain": [
       "blue-collar      0.780826\n",
       "services         0.737362\n",
       "admin.           0.690195\n",
       "entrepreneur     0.683255\n",
       "technician       0.606555\n",
       "management       0.552442\n",
       "self-employed    0.547182\n",
       "unemployed       0.452034\n",
       "housemaid        0.395161\n",
       "retired          0.308746\n",
       "student          0.273987\n",
       "unknown          0.097222\n",
       "Name: empr_rel, dtype: float64"
      ]
     },
     "execution_count": 9,
     "metadata": {},
     "output_type": "execute_result"
    }
   ],
   "source": [
    "jobs_df['empr_rel'].sort_values(ascending=False)"
   ]
  },
  {
   "cell_type": "markdown",
   "metadata": {},
   "source": [
    "Nesta segunda listagem, podemos ver que profissionais de serviços (_service_), apesar de possuir poucos empréstimos (3063) eles correspondem a 73.73% deste sub-público, tornando uma profissão com alta tendência à contratação. Se comparado com _management_, o alto número de empréstimos (5225) corresponde a apenas 55,24% do público. Isso se dá pelo grande volume deste sub-público."
   ]
  },
  {
   "cell_type": "markdown",
   "metadata": {},
   "source": [
    "Para analisarmos o tipo de empréstimo que é mais comum, vamos comparar as frequências relativas de cada tipo. Desta forma temos que, em todos os casos, a **frequência de empréstimos imobiliários é maior**:"
   ]
  },
  {
   "cell_type": "code",
   "execution_count": 10,
   "metadata": {},
   "outputs": [
    {
     "data": {
      "text/plain": [
       "blue-collar      True\n",
       "management       True\n",
       "technician       True\n",
       "admin.           True\n",
       "services         True\n",
       "retired          True\n",
       "self-employed    True\n",
       "entrepreneur     True\n",
       "unemployed       True\n",
       "housemaid        True\n",
       "student          True\n",
       "unknown          True\n",
       "dtype: bool"
      ]
     },
     "execution_count": 10,
     "metadata": {},
     "output_type": "execute_result"
    }
   ],
   "source": [
    "# Verdadeiro quando a taxa de empréstimos imobiliários é maior que empréstimo pessoal\n",
    "jobs_df.housing_rel > jobs_df.loan_rel"
   ]
  },
  {
   "cell_type": "markdown",
   "metadata": {},
   "source": [
    "# Questão 2"
   ]
  },
  {
   "cell_type": "markdown",
   "metadata": {},
   "source": [
    "Fazendo uma relação entre número de contatos e sucesso da campanha quais são os pontos relevantes a serem observados?\n",
    "\n",
    "### Desenvolvimento"
   ]
  },
  {
   "cell_type": "code",
   "execution_count": 11,
   "metadata": {},
   "outputs": [
    {
     "data": {
      "image/png": "[encoded data removed]",
      "text/plain": [
       "<Figure size 1080x360 with 2 Axes>"
      ]
     },
     "metadata": {
      "needs_background": "light"
     },
     "output_type": "display_data"
    }
   ],
   "source": [
    "agg_camp = data.groupby('campaign')\n",
    "values = agg_camp['y'].describe()\n",
    "\n",
    "fig, ax1 = plt.subplots(figsize=(15,5))\n",
    "ax1.bar(values.index, values['count'], label='pessoas')\n",
    "ax1.set_xlabel('número de contatos')\n",
    "ax1.set_ylabel('número de pessoas')\n",
    "\n",
    "ax2 = ax1.twinx()\n",
    "ax2.plot(values.index, values['mean'], label='taxa de sucesso', color='green')\n",
    "ax2.set_ylabel('% de sucesso')\n",
    "ax2.set_ylim(0, .15)\n",
    "ax2.grid()\n",
    "\n",
    "plt.legend()\n",
    "plt.tight_layout()\n",
    "plt.show()"
   ]
  },
  {
   "cell_type": "markdown",
   "metadata": {},
   "source": [
    "### Resposta 2\n",
    "\n",
    "Com base no gráfico acima, é possível perceber que quanto maior o número de contatos, menor é taxa de sucesso. Vale ressaltar que os picos apresentados para contatos maiores que 10 são decorrentes do baixo volume destes casos."
   ]
  },
  {
   "cell_type": "markdown",
   "metadata": {},
   "source": [
    "# Questão 3\n",
    "\n",
    "Baseando-se nos resultados de adesão desta campanha qual o número médio e o máximo de ligações que você indica para otimizar a adesão?"
   ]
  },
  {
   "cell_type": "markdown",
   "metadata": {},
   "source": [
    "### Desenvolvimento"
   ]
  },
  {
   "cell_type": "code",
   "execution_count": 12,
   "metadata": {},
   "outputs": [
    {
     "data": {
      "image/png": "[encoded data removed]",
      "text/plain": [
       "<Figure size 1080x360 with 1 Axes>"
      ]
     },
     "metadata": {
      "needs_background": "light"
     },
     "output_type": "display_data"
    }
   ],
   "source": [
    "# selecionado apenas as adesões\n",
    "fl_adesao = data['y'] == 1\n",
    "\n",
    "# número de contatos para quem aderiu\n",
    "contatos_df = data.loc[fl_adesao, 'campaign']\n",
    "\n",
    "# porcentagem das adesões por número de contatos\n",
    "adesao_df = contatos_df.value_counts()  / len(contatos_df)\n",
    "adesao_df = adesao_df.sort_index()\n",
    "\n",
    "# taxa acumulada de adesão por contato\n",
    "adesao_cum = adesao_df.cumsum()\n",
    "\n",
    "# gráfico\n",
    "plt.figure(figsize=(15,5))\n",
    "plt.plot(range(len(adesao_cum)), adesao_cum.values)\n",
    "plt.plot(range(len(adesao_cum)), adesao_cum.values, 'o')\n",
    "plt.xticks(ticks=range(len(adesao_cum)), labels=adesao_cum.index)\n",
    "plt.title('Taxa acumulada de adesão por número de ligações.')\n",
    "plt.xlabel('Número de ligações')\n",
    "plt.ylabel('Taxa de Adesão Capturada (acumulada)')\n",
    "plt.grid()\n",
    "\n",
    "for i, j in zip(range(len(adesao_cum)), adesao_cum.values):\n",
    "    plt.annotate(f'{j:.2f}', (i+.1, j-.02))\n",
    "\n",
    "plt.show()"
   ]
  },
  {
   "cell_type": "markdown",
   "metadata": {},
   "source": [
    "O gráfico acima descreve o quanto das adesões são capturadas com determinado número de ligações. O eixo x possui o número de ligações (contatos) e o eixo y representa, de forma acumulada, a taxa de adesão capturada.\n",
    "\n",
    "Com apenas 1 contato, é possível capturar 48% das a desões. Com 2 contatos, 75% das adesões. Vale ressaltar que os valores mostrados ao lado de cada ponto são aproximados, por isso os valores acima de 13 contatos apresentam uma captura de 100% das adesões."
   ]
  },
  {
   "cell_type": "markdown",
   "metadata": {},
   "source": [
    "### Resposta 3\n",
    "\n",
    "O número máximo para captura máxima de adesões é 32. Porém, poucas adesões necessitaram de tantos contatos. Com apenas 5 ligações foram capturadas 95% das adesões, o que parece ser um número razoável de contatos."
   ]
  },
  {
   "cell_type": "markdown",
   "metadata": {},
   "source": [
    "# Questão 4\n",
    "\n",
    "O resultado da campanha anterior tem relevância na campanha atual?"
   ]
  },
  {
   "cell_type": "markdown",
   "metadata": {},
   "source": [
    "### Desenvolvimento"
   ]
  },
  {
   "cell_type": "code",
   "execution_count": 13,
   "metadata": {},
   "outputs": [
    {
     "data": {
      "text/plain": [
       "0    39922\n",
       "1     5289\n",
       "Name: y, dtype: int64"
      ]
     },
     "execution_count": 13,
     "metadata": {},
     "output_type": "execute_result"
    }
   ],
   "source": [
    "# número de adesões no campanha atual (5289)\n",
    "data['y'].value_counts()"
   ]
  },
  {
   "cell_type": "code",
   "execution_count": 14,
   "metadata": {},
   "outputs": [
    {
     "data": {
      "text/html": [
       "<div>\n",
       "<style scoped>\n",
       "    .dataframe tbody tr th:only-of-type {\n",
       "        vertical-align: middle;\n",
       "    }\n",
       "\n",
       "    .dataframe tbody tr th {\n",
       "        vertical-align: top;\n",
       "    }\n",
       "\n",
       "    .dataframe thead th {\n",
       "        text-align: right;\n",
       "    }\n",
       "</style>\n",
       "<table border=\"1\" class=\"dataframe\">\n",
       "  <thead>\n",
       "    <tr style=\"text-align: right;\">\n",
       "      <th></th>\n",
       "      <th>total</th>\n",
       "      <th>taxa de sucesso</th>\n",
       "      <th>num de sucesso</th>\n",
       "    </tr>\n",
       "    <tr>\n",
       "      <th>poutcome</th>\n",
       "      <th></th>\n",
       "      <th></th>\n",
       "      <th></th>\n",
       "    </tr>\n",
       "  </thead>\n",
       "  <tbody>\n",
       "    <tr>\n",
       "      <th>failure</th>\n",
       "      <td>4901.0</td>\n",
       "      <td>0.126097</td>\n",
       "      <td>618.0</td>\n",
       "    </tr>\n",
       "    <tr>\n",
       "      <th>other</th>\n",
       "      <td>1840.0</td>\n",
       "      <td>0.166848</td>\n",
       "      <td>307.0</td>\n",
       "    </tr>\n",
       "    <tr>\n",
       "      <th>success</th>\n",
       "      <td>1511.0</td>\n",
       "      <td>0.647253</td>\n",
       "      <td>978.0</td>\n",
       "    </tr>\n",
       "    <tr>\n",
       "      <th>unknown</th>\n",
       "      <td>36959.0</td>\n",
       "      <td>0.091615</td>\n",
       "      <td>3386.0</td>\n",
       "    </tr>\n",
       "  </tbody>\n",
       "</table>\n",
       "</div>"
      ],
      "text/plain": [
       "            total  taxa de sucesso  num de sucesso\n",
       "poutcome                                          \n",
       "failure    4901.0         0.126097           618.0\n",
       "other      1840.0         0.166848           307.0\n",
       "success    1511.0         0.647253           978.0\n",
       "unknown   36959.0         0.091615          3386.0"
      ]
     },
     "execution_count": 14,
     "metadata": {},
     "output_type": "execute_result"
    }
   ],
   "source": [
    "# número de adesões dada a campanha anterior\n",
    "values = data.groupby('poutcome')['y'].describe()[['count', 'mean']]\n",
    "values['sum'] = values['count'] * values['mean']\n",
    "values.columns = ['total', 'taxa de sucesso', 'num de sucesso']\n",
    "values"
   ]
  },
  {
   "cell_type": "markdown",
   "metadata": {},
   "source": [
    "A tabela acima, as linhas representam a saída da campanha anterior e colunas são descritas como:\n",
    "- **total**: é o numero de pessoas em cada tipo de saída da campanha anterior;\n",
    "- **taxa de sucesso**: é a porcentagem de pessoas que obtiveram sucesso na segunda campanha;\n",
    "- **num de sucesso**: é o valor absoluto de sucesso na segunda campanha."
   ]
  },
  {
   "cell_type": "markdown",
   "metadata": {},
   "source": [
    "### Resposta 4\n",
    "\n",
    "Sim. Dado que a campanha tenha sido um sucesso anteriormente, há uma taxa de 64% de sucesso na campanha atual, diferente dos outros casos, com menos de 16% de sucesso. Vale ressaltar que, embora proporcionalmente menor (9%), casos desconhecidos (_unknown_) na campanha anterior, representa o maior volume (3386) de sucesso na campanha atual."
   ]
  },
  {
   "cell_type": "markdown",
   "metadata": {},
   "source": [
    "# Questão 5\n",
    "\n",
    "Qual o fator determinante para que o banco exija um seguro de crédito?"
   ]
  },
  {
   "cell_type": "markdown",
   "metadata": {},
   "source": [
    "Fiquei confuso com essa questão, pois não encontrei uma variável relacionada a **seguro de crédito**. Das variáveis de crédito disponíveis na base de dados, estão:\n",
    "- default: variável que indica se a pessoa entrou/está em atraso ou não em algum produto de crédito.\n",
    "- balance: balanço anual médio (em euros).\n",
    "- housing: variável que indica se a pessoa possui empréstimo imobiliário.\n",
    "- loan: variável que indica se a pessoa possui empréstimo pessoal."
   ]
  },
  {
   "cell_type": "markdown",
   "metadata": {},
   "source": [
    "# Questão 6\n",
    "\n",
    "Quais são as características mais proeminentes de um cliente que possua empréstimo imobiliário?"
   ]
  },
  {
   "cell_type": "markdown",
   "metadata": {},
   "source": [
    "### Desenvolvimento\n",
    "\n",
    "Para identificar as características mais importantes de um cliente com empréstimo imobiliário, será construída uma regressão logística. A identificação será dada pelo peso dos coeficientes de cada variável na equação.\n",
    "\n",
    "Primeiramente, serão selecionadas apenas as variáveis adequadas para o problema. Sendo assim, as variáveis de informações dos clientes serão utilizadas, descartando variáveis relacionadas com a campanha de marketing. Neste caso, a variável reposta será dada por _housing_.\n",
    "\n",
    "Em seguida, é necessário tratar os dados para que os coeficientes da regressão logística reflitam um grau de importância. Para isso, os dados serão transformados em numéricos e normalizados."
   ]
  },
  {
   "cell_type": "code",
   "execution_count": 15,
   "metadata": {},
   "outputs": [
    {
     "data": {
      "text/plain": [
       "(45211, 23)"
      ]
     },
     "execution_count": 15,
     "metadata": {},
     "output_type": "execute_result"
    }
   ],
   "source": [
    "# seleção das variáveis.\n",
    "y = data['housing']\n",
    "x = data[[\n",
    "    'age',\n",
    "    'job',\n",
    "    'marital',\n",
    "    'education',\n",
    "    'default',\n",
    "    'balance',\n",
    "    'loan'\n",
    "]].copy()\n",
    "\n",
    "# tratamento da variável default para numérica\n",
    "fl_default = x['default'] == 'yes'\n",
    "x['default'] = 0\n",
    "x.loc[fl_default, 'default'] = 1\n",
    "\n",
    "# transforma as categóricas em dummies\n",
    "x = pd.get_dummies(x)\n",
    "\n",
    "# normalizando os dados\n",
    "x_norm = x / x.max()\n",
    "x_norm.shape"
   ]
  },
  {
   "cell_type": "code",
   "execution_count": 16,
   "metadata": {},
   "outputs": [
    {
     "name": "stderr",
     "output_type": "stream",
     "text": [
      "/usr/lib/python3.7/site-packages/sklearn/linear_model/logistic.py:433: FutureWarning: Default solver will be changed to 'lbfgs' in 0.22. Specify a solver to silence this warning.\n",
      "  FutureWarning)\n"
     ]
    },
    {
     "data": {
      "text/plain": [
       "LogisticRegression(C=1.0, class_weight=None, dual=False, fit_intercept=True,\n",
       "          intercept_scaling=1, max_iter=100, multi_class='warn',\n",
       "          n_jobs=None, penalty='l2', random_state=None, solver='warn',\n",
       "          tol=0.0001, verbose=0, warm_start=False)"
      ]
     },
     "execution_count": 16,
     "metadata": {},
     "output_type": "execute_result"
    }
   ],
   "source": [
    "# regressão logística\n",
    "lgr = LogisticRegression()\n",
    "lgr.fit(x_norm, y)"
   ]
  },
  {
   "cell_type": "markdown",
   "metadata": {},
   "source": [
    "### Resposta 6\n",
    "\n",
    "De forma resumida:\n",
    "\n",
    "> idades (_age_) mais baixas e saldo (_balance_) menores, com emprego de operário (_blue-collar_).\n",
    "\n",
    "A seguir a análise dos coeficientes mostra de forma mais detalhada como essa resposta foi obtida.\n",
    "\n",
    "#### Análise dos coeficientes\n",
    "\n",
    "Como os dados foram normalizados, é possível utilizar os coeficientes da regressão logística como pesos de importância para cada variável. Abaixo é mostrada a tabela ordenada pela importância das variáveis."
   ]
  },
  {
   "cell_type": "code",
   "execution_count": 17,
   "metadata": {},
   "outputs": [
    {
     "data": {
      "text/html": [
       "<div>\n",
       "<style scoped>\n",
       "    .dataframe tbody tr th:only-of-type {\n",
       "        vertical-align: middle;\n",
       "    }\n",
       "\n",
       "    .dataframe tbody tr th {\n",
       "        vertical-align: top;\n",
       "    }\n",
       "\n",
       "    .dataframe thead th {\n",
       "        text-align: right;\n",
       "    }\n",
       "</style>\n",
       "<table border=\"1\" class=\"dataframe\">\n",
       "  <thead>\n",
       "    <tr style=\"text-align: right;\">\n",
       "      <th></th>\n",
       "      <th>var</th>\n",
       "      <th>coef</th>\n",
       "      <th>abs_coef</th>\n",
       "    </tr>\n",
       "  </thead>\n",
       "  <tbody>\n",
       "    <tr>\n",
       "      <th>0</th>\n",
       "      <td>age</td>\n",
       "      <td>-3.716369</td>\n",
       "      <td>3.716369</td>\n",
       "    </tr>\n",
       "    <tr>\n",
       "      <th>2</th>\n",
       "      <td>balance</td>\n",
       "      <td>-2.236856</td>\n",
       "      <td>2.236856</td>\n",
       "    </tr>\n",
       "    <tr>\n",
       "      <th>15</th>\n",
       "      <td>job_unknown</td>\n",
       "      <td>-1.691322</td>\n",
       "      <td>1.691322</td>\n",
       "    </tr>\n",
       "    <tr>\n",
       "      <th>5</th>\n",
       "      <td>job_blue-collar</td>\n",
       "      <td>1.138682</td>\n",
       "      <td>1.138682</td>\n",
       "    </tr>\n",
       "    <tr>\n",
       "      <th>12</th>\n",
       "      <td>job_student</td>\n",
       "      <td>-1.043397</td>\n",
       "      <td>1.043397</td>\n",
       "    </tr>\n",
       "    <tr>\n",
       "      <th>11</th>\n",
       "      <td>job_services</td>\n",
       "      <td>0.812214</td>\n",
       "      <td>0.812214</td>\n",
       "    </tr>\n",
       "    <tr>\n",
       "      <th>6</th>\n",
       "      <td>job_entrepreneur</td>\n",
       "      <td>0.693290</td>\n",
       "      <td>0.693290</td>\n",
       "    </tr>\n",
       "    <tr>\n",
       "      <th>4</th>\n",
       "      <td>job_admin.</td>\n",
       "      <td>0.642100</td>\n",
       "      <td>0.642100</td>\n",
       "    </tr>\n",
       "    <tr>\n",
       "      <th>16</th>\n",
       "      <td>marital_divorced</td>\n",
       "      <td>0.485612</td>\n",
       "      <td>0.485612</td>\n",
       "    </tr>\n",
       "    <tr>\n",
       "      <th>8</th>\n",
       "      <td>job_management</td>\n",
       "      <td>0.410827</td>\n",
       "      <td>0.410827</td>\n",
       "    </tr>\n",
       "    <tr>\n",
       "      <th>13</th>\n",
       "      <td>job_technician</td>\n",
       "      <td>0.386723</td>\n",
       "      <td>0.386723</td>\n",
       "    </tr>\n",
       "    <tr>\n",
       "      <th>7</th>\n",
       "      <td>job_housemaid</td>\n",
       "      <td>-0.375278</td>\n",
       "      <td>0.375278</td>\n",
       "    </tr>\n",
       "    <tr>\n",
       "      <th>20</th>\n",
       "      <td>education_secondary</td>\n",
       "      <td>0.368299</td>\n",
       "      <td>0.368299</td>\n",
       "    </tr>\n",
       "    <tr>\n",
       "      <th>9</th>\n",
       "      <td>job_retired</td>\n",
       "      <td>-0.348916</td>\n",
       "      <td>0.348916</td>\n",
       "    </tr>\n",
       "    <tr>\n",
       "      <th>17</th>\n",
       "      <td>marital_married</td>\n",
       "      <td>0.341899</td>\n",
       "      <td>0.341899</td>\n",
       "    </tr>\n",
       "    <tr>\n",
       "      <th>19</th>\n",
       "      <td>education_primary</td>\n",
       "      <td>0.324196</td>\n",
       "      <td>0.324196</td>\n",
       "    </tr>\n",
       "    <tr>\n",
       "      <th>1</th>\n",
       "      <td>default</td>\n",
       "      <td>-0.288181</td>\n",
       "      <td>0.288181</td>\n",
       "    </tr>\n",
       "    <tr>\n",
       "      <th>10</th>\n",
       "      <td>job_self-employed</td>\n",
       "      <td>0.272166</td>\n",
       "      <td>0.272166</td>\n",
       "    </tr>\n",
       "    <tr>\n",
       "      <th>3</th>\n",
       "      <td>loan</td>\n",
       "      <td>0.074639</td>\n",
       "      <td>0.074639</td>\n",
       "    </tr>\n",
       "    <tr>\n",
       "      <th>14</th>\n",
       "      <td>job_unemployed</td>\n",
       "      <td>-0.074197</td>\n",
       "      <td>0.074197</td>\n",
       "    </tr>\n",
       "    <tr>\n",
       "      <th>22</th>\n",
       "      <td>education_unknown</td>\n",
       "      <td>0.067568</td>\n",
       "      <td>0.067568</td>\n",
       "    </tr>\n",
       "    <tr>\n",
       "      <th>21</th>\n",
       "      <td>education_tertiary</td>\n",
       "      <td>0.062828</td>\n",
       "      <td>0.062828</td>\n",
       "    </tr>\n",
       "    <tr>\n",
       "      <th>18</th>\n",
       "      <td>marital_single</td>\n",
       "      <td>-0.004619</td>\n",
       "      <td>0.004619</td>\n",
       "    </tr>\n",
       "  </tbody>\n",
       "</table>\n",
       "</div>"
      ],
      "text/plain": [
       "                    var      coef  abs_coef\n",
       "0                   age -3.716369  3.716369\n",
       "2               balance -2.236856  2.236856\n",
       "15          job_unknown -1.691322  1.691322\n",
       "5       job_blue-collar  1.138682  1.138682\n",
       "12          job_student -1.043397  1.043397\n",
       "11         job_services  0.812214  0.812214\n",
       "6      job_entrepreneur  0.693290  0.693290\n",
       "4            job_admin.  0.642100  0.642100\n",
       "16     marital_divorced  0.485612  0.485612\n",
       "8        job_management  0.410827  0.410827\n",
       "13       job_technician  0.386723  0.386723\n",
       "7         job_housemaid -0.375278  0.375278\n",
       "20  education_secondary  0.368299  0.368299\n",
       "9           job_retired -0.348916  0.348916\n",
       "17      marital_married  0.341899  0.341899\n",
       "19    education_primary  0.324196  0.324196\n",
       "1               default -0.288181  0.288181\n",
       "10    job_self-employed  0.272166  0.272166\n",
       "3                  loan  0.074639  0.074639\n",
       "14       job_unemployed -0.074197  0.074197\n",
       "22    education_unknown  0.067568  0.067568\n",
       "21   education_tertiary  0.062828  0.062828\n",
       "18       marital_single -0.004619  0.004619"
      ]
     },
     "execution_count": 17,
     "metadata": {},
     "output_type": "execute_result"
    }
   ],
   "source": [
    "coef_df = pd.DataFrame({\n",
    "    'var': x_norm.columns.values,\n",
    "    'coef':lgr.coef_[0],\n",
    "    'abs_coef': np.abs(lgr.coef_[0])\n",
    "})\n",
    "\n",
    "# ordena pela importância\n",
    "coef_df.sort_values('abs_coef', ascending=False)"
   ]
  },
  {
   "cell_type": "markdown",
   "metadata": {},
   "source": [
    "Pela tabela, é possível identificar que as principais variáveis foram:\n",
    "- idade (_age_)\n",
    "- saldo (_balance_)\n",
    "\n",
    "Como os coeficientes das duas variáveis são negativos, isso indica que a relação linear destas com a variável resposta (_housing_) é inversa. Ou seja, empréstimos imobiliários podem ser vistos em clientes com idades e saldos mais baixos. O mesmo é válido para clientes quando estes não possuem um emprego definido (_unknown_), tendendo a não possuirem empréstimos imobiliários. Já para o caso de clientes com empregos de operários (_blue-collar_) há uma tendencia ao empréstimo imobiliário, idenfiticado no coeficiente positivo.\n",
    "\n",
    "Essas relações podem ser melhor visualizadas nos gráficos a seguir. Os gráficos da esquerda mostram as distribuições para cada público (com e sem empréstimo imobiliário) e os gráficos na direita mostram a relação linear entre variável explicativa e variável resposta."
   ]
  },
  {
   "cell_type": "code",
   "execution_count": 18,
   "metadata": {},
   "outputs": [
    {
     "data": {
      "image/png": "[encoded data removed]",
      "text/plain": [
       "<Figure size 1080x360 with 2 Axes>"
      ]
     },
     "metadata": {
      "needs_background": "light"
     },
     "output_type": "display_data"
    },
    {
     "data": {
      "text/plain": [
       "<Figure size 1080x360 with 0 Axes>"
      ]
     },
     "metadata": {},
     "output_type": "display_data"
    }
   ],
   "source": [
    "plt.figure(figsize=(15,5))\n",
    "\n",
    "plt.subplot(1,2,1)\n",
    "\n",
    "fl = y == 1\n",
    "kwargs = dict(bins=70, hist=False, kde_kws={'shade':True})\n",
    "\n",
    "sns.distplot(x_norm.loc[fl, 'age'], label='com empréstimo', **kwargs)\n",
    "sns.distplot(x_norm.loc[~fl, 'age'], label='sem empréstimo', **kwargs)\n",
    "plt.title('Distribuição da Variável: age')\n",
    "plt.xlabel('idade (age)')\n",
    "plt.legend()\n",
    "\n",
    "plt.subplot(1,2,2)\n",
    "plt.title('Relação Linear')\n",
    "sns.regplot(x_norm['age'], y)\n",
    "\n",
    "plt.figure(figsize=(15,5))\n",
    "plt.show()"
   ]
  },
  {
   "cell_type": "code",
   "execution_count": 19,
   "metadata": {},
   "outputs": [
    {
     "data": {
      "image/png": "[encoded data removed]",
      "text/plain": [
       "<Figure size 1080x360 with 2 Axes>"
      ]
     },
     "metadata": {
      "needs_background": "light"
     },
     "output_type": "display_data"
    }
   ],
   "source": [
    "%%capture --no-display\n",
    "plt.figure(figsize=(15,5))\n",
    "plt.subplot(1,2,1)\n",
    "\n",
    "fl = y == 1\n",
    "kwargs = dict(bins=70, hist=False, kde_kws={'shade':True})\n",
    "\n",
    "sns.distplot(np.log(x.loc[fl, 'balance']), label='com empréstimo', **kwargs)\n",
    "sns.distplot(np.log(x.loc[~fl, 'balance']), label='sem empréstimo', **kwargs)\n",
    "plt.title('Distribuição da Variável: balance')\n",
    "plt.xlabel('saldo (balance)')\n",
    "plt.legend()\n",
    "\n",
    "plt.subplot(1,2,2)\n",
    "plt.title('Relação Linear')\n",
    "sns.regplot(x_norm['balance'], y)\n",
    "\n",
    "plt.show()"
   ]
  }
 ],
 "metadata": {
  "kernelspec": {
   "display_name": "Python 3",
   "language": "python",
   "name": "python3"
  },
  "language_info": {
   "codemirror_mode": {
    "name": "ipython",
    "version": 3
   },
   "file_extension": ".py",
   "mimetype": "text/x-python",
   "name": "python",
   "nbconvert_exporter": "python",
   "pygments_lexer": "ipython3",
   "version": "3.7.3"
  }
 },
 "nbformat": 4,
 "nbformat_minor": 2
}
